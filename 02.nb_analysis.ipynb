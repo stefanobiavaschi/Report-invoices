{
 "cells": [
  {
   "cell_type": "code",
   "execution_count": null,
   "id": "85507735",
   "metadata": {},
   "outputs": [],
   "source": [
    "import pandas as pd\n",
    "from lib.utils import plot_cake_mittente, plot_hist_mittente"
   ]
  },
  {
   "cell_type": "code",
   "execution_count": null,
   "id": "593f4e8a",
   "metadata": {},
   "outputs": [],
   "source": [
    "data_string = \"250713\"\n",
    "path = f'data/{data_string}_df_invoices_totali_per_fornitore.xlsx'\n",
    "path_details = f'data/{data_string}_df_invoices_details.xlsx'\n",
    "df_invoices_details = pd.read_excel(path_details)\n",
    "df_invoices = pd.read_excel(path)"
   ]
  },
  {
   "cell_type": "markdown",
   "id": "a1d8bdd1",
   "metadata": {},
   "source": [
    "## Spese mensili"
   ]
  },
  {
   "cell_type": "code",
   "execution_count": null,
   "id": "fe988fa5",
   "metadata": {},
   "outputs": [],
   "source": [
    "df_invoices['Mese_Fattura'] = pd.to_datetime(df_invoices['Data_Fattura']).dt.month\n",
    "df_invoices_details['Mese_Fattura'] = pd.to_datetime(df_invoices_details['Data_Fattura']).dt.month"
   ]
  },
  {
   "cell_type": "code",
   "execution_count": null,
   "id": "c841d913",
   "metadata": {},
   "outputs": [],
   "source": [
    "df_invoices.groupby('Mese_Fattura')['Importo_totale_doc'].sum()"
   ]
  },
  {
   "cell_type": "code",
   "execution_count": null,
   "id": "1c0bffdc",
   "metadata": {},
   "outputs": [],
   "source": [
    "df_invoices_details.groupby('Mese_Fattura')['Prezzo_ivato'].sum()"
   ]
  },
  {
   "cell_type": "markdown",
   "id": "ab38c26e",
   "metadata": {},
   "source": [
    "## Grafici"
   ]
  },
  {
   "cell_type": "code",
   "execution_count": null,
   "id": "34f06665",
   "metadata": {},
   "outputs": [],
   "source": [
    "plot_cake_mittente(df_invoices_details)"
   ]
  },
  {
   "cell_type": "code",
   "execution_count": null,
   "id": "32a7adc6",
   "metadata": {},
   "outputs": [],
   "source": [
    "plot_hist_mittente(df_invoices_details)"
   ]
  },
  {
   "cell_type": "code",
   "execution_count": null,
   "id": "40b29bd5",
   "metadata": {},
   "outputs": [],
   "source": [
    "df_filtered = df_invoices_details.loc[df_invoices_details['Data_Fattura'].str.startswith(('2025-04', '2025-05'))]\n",
    "plot_hist_mittente(df_filtered)"
   ]
  },
  {
   "cell_type": "code",
   "execution_count": null,
   "id": "d756f917",
   "metadata": {},
   "outputs": [],
   "source": [
    "# Raggruppa e somma\n",
    "df_filtered = df_invoices_details.loc[df_invoices_details['Data_Fattura'].str.startswith(('2025-04', '2025-05'))]\n",
    "df_filtered = df_filtered.loc[df_filtered.Denominazione_Mittente == 'FRATELLI TRUSSONI SRL UNIPERSONALE -Soc. sogg.dir.e coord.La Trus Srl']\n",
    "\n",
    "plot_hist_mittente(df_filtered, col_groupby='Descrizione')"
   ]
  },
  {
   "cell_type": "code",
   "execution_count": null,
   "id": "b15f8aa0",
   "metadata": {},
   "outputs": [],
   "source": [
    "# df_invoices.to_csv('data/df_invoices_02_05.csv', index=False)\n",
    "# df_invoices_details.to_csv('data/df_invoices_details_02_05.csv', index=False)"
   ]
  }
 ],
 "metadata": {
  "kernelspec": {
   "display_name": ".venv",
   "language": "python",
   "name": "python3"
  },
  "language_info": {
   "codemirror_mode": {
    "name": "ipython",
    "version": 3
   },
   "file_extension": ".py",
   "mimetype": "text/x-python",
   "name": "python",
   "nbconvert_exporter": "python",
   "pygments_lexer": "ipython3",
   "version": "3.11.1"
  }
 },
 "nbformat": 4,
 "nbformat_minor": 5
}
