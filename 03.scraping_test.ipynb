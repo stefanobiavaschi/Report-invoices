{
 "cells": [
  {
   "cell_type": "code",
   "execution_count": null,
   "id": "5b053d02",
   "metadata": {},
   "outputs": [],
   "source": [
    "# !playwright install"
   ]
  },
  {
   "cell_type": "code",
   "execution_count": null,
   "id": "284d698f",
   "metadata": {},
   "outputs": [],
   "source": [
    "from secret import INVOICE_URL_LOGIN, INVOICE_USERNAME, INVOICE_PASSWORD\n",
    "from playwright.sync_api import sync_playwright\n",
    "\n",
    "import asyncio\n",
    "from playwright.async_api import async_playwright\n",
    "\n",
    "import time"
   ]
  },
  {
   "cell_type": "code",
   "execution_count": null,
   "id": "a07efe88",
   "metadata": {},
   "outputs": [],
   "source": [
    "async with async_playwright() as p:\n",
    "    browser = await p.chromium.launch(headless=False)  # headless=True se non vuoi aprire la finestra\n",
    "    page = await browser.new_page()\n",
    "\n",
    "    # Vai alla pagina di login\n",
    "    await page.goto(INVOICE_URL_LOGIN)\n",
    "\n",
    "    # Aspetta che il campo username sia abilitato\n",
    "    await page.wait_for_selector(\"input[name='m_cUserName']:not([disabled])\")\n",
    "\n",
    "    # Compila i campi (controlla gli attributi reali con \"ispeziona elemento\")\n",
    "    await page.fill(\"input[name='m_cUserName']\", INVOICE_USERNAME)\n",
    "    await page.fill(\"input[name='m_cPassword']\", INVOICE_PASSWORD)\n",
    "\n",
    "    # Clicca il pulsante di login\n",
    "    await page.click(\"input[type='submit']\")\n",
    "\n",
    "    # Aspetta che la pagina sia caricata\n",
    "    await page.wait_for_load_state(\"networkidle\")\n",
    "\n",
    "    # Clicca sul pulsante \"Fatturazione passiva\"\n",
    "    await page.click(\"#icd5m_lblFP_Massivatbl\")\n",
    "\n",
    "    # Aspetta che la pagina sia caricata\n",
    "    await page.wait_for_load_state(\"networkidle\")\n",
    "\n",
    "    await asyncio.sleep(30)\n",
    "\n",
    "    print(\"Pagina dopo login:\", page.url)"
   ]
  },
  {
   "cell_type": "code",
   "execution_count": null,
   "id": "fba24839",
   "metadata": {},
   "outputs": [],
   "source": []
  },
  {
   "cell_type": "code",
   "execution_count": null,
   "id": "212da662",
   "metadata": {},
   "outputs": [],
   "source": []
  },
  {
   "cell_type": "code",
   "execution_count": null,
   "id": "051d0c99",
   "metadata": {},
   "outputs": [],
   "source": []
  },
  {
   "cell_type": "code",
   "execution_count": null,
   "id": "875d212c",
   "metadata": {},
   "outputs": [],
   "source": []
  },
  {
   "cell_type": "code",
   "execution_count": null,
   "id": "d72ed3af",
   "metadata": {},
   "outputs": [],
   "source": []
  },
  {
   "cell_type": "code",
   "execution_count": null,
   "id": "321f43a5",
   "metadata": {},
   "outputs": [],
   "source": [
    "import pandas as pd"
   ]
  },
  {
   "cell_type": "code",
   "execution_count": null,
   "id": "2a27e5ae",
   "metadata": {},
   "outputs": [],
   "source": [
    "data_string_old = \"250809\"\n",
    "path_old = f'data/{data_string_old}_df_invoices_totali_per_fornitore.xlsx'\n",
    "path_details_old = f'data/{data_string_old}_df_invoices_details.xlsx'\n",
    "df_invoices_details_old = pd.read_excel(path_details_old)\n",
    "df_invoices_old = pd.read_excel(path_old)"
   ]
  },
  {
   "cell_type": "code",
   "execution_count": null,
   "id": "9b716721",
   "metadata": {},
   "outputs": [],
   "source": [
    "data_string_new = \"250905\"\n",
    "path_new = f'data/{data_string_new}_df_invoices_totali_per_fornitore.xlsx'\n",
    "path_details_new = f'data/{data_string_new}_df_invoices_details.xlsx'\n",
    "df_invoices_details_new = pd.read_excel(path_details_new)\n",
    "df_invoices_new = pd.read_excel(path_new)"
   ]
  },
  {
   "cell_type": "code",
   "execution_count": null,
   "id": "c7e6b554",
   "metadata": {},
   "outputs": [],
   "source": [
    "# Supponiamo di avere df1 e df2\n",
    "diff = df_invoices_new.merge(df_invoices_old, how='outer', on=\"Nome_file\", indicator=True)\n",
    "\n",
    "righe_solo_new = diff[diff['_merge'] == 'left_only']\n",
    "righe_solo_old = diff[diff['_merge'] == 'right_only']"
   ]
  },
  {
   "cell_type": "code",
   "execution_count": null,
   "id": "a4787b92",
   "metadata": {},
   "outputs": [],
   "source": [
    "righe_solo_new"
   ]
  },
  {
   "cell_type": "code",
   "execution_count": null,
   "id": "fab1c800",
   "metadata": {},
   "outputs": [],
   "source": [
    "righe_solo_old"
   ]
  }
 ],
 "metadata": {
  "kernelspec": {
   "display_name": ".venv",
   "language": "python",
   "name": "python3"
  },
  "language_info": {
   "codemirror_mode": {
    "name": "ipython",
    "version": 3
   },
   "file_extension": ".py",
   "mimetype": "text/x-python",
   "name": "python",
   "nbconvert_exporter": "python",
   "pygments_lexer": "ipython3",
   "version": "3.11.1"
  }
 },
 "nbformat": 4,
 "nbformat_minor": 5
}
