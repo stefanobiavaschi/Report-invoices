{
 "cells": [
  {
   "cell_type": "code",
   "execution_count": 3,
   "id": "4f68b069",
   "metadata": {},
   "outputs": [
    {
     "ename": "ParseError",
     "evalue": "not well-formed (invalid token): line 1, column 1 (<string>)",
     "output_type": "error",
     "traceback": [
      "Traceback \u001b[36m(most recent call last)\u001b[39m:\n",
      "  File \u001b[92m~/Desktop/Lavori/La_curt/Report-invoices/.venv/lib/python3.11/site-packages/IPython/core/interactiveshell.py:3672\u001b[39m in \u001b[95mrun_code\u001b[39m\n    exec(code_obj, self.user_global_ns, self.user_ns)\n",
      "  Cell \u001b[92mIn[3]\u001b[39m\u001b[92m, line 4\u001b[39m\n    tree = ET.parse('data/2025_04/IT00071630149_04PR7.xml.p7m')\n",
      "  File \u001b[92m/Library/Frameworks/Python.framework/Versions/3.11/lib/python3.11/xml/etree/ElementTree.py:1218\u001b[39m in \u001b[95mparse\u001b[39m\n    tree.parse(source, parser)\n",
      "\u001b[36m  \u001b[39m\u001b[36mFile \u001b[39m\u001b[32m/Library/Frameworks/Python.framework/Versions/3.11/lib/python3.11/xml/etree/ElementTree.py:580\u001b[39m\u001b[36m in \u001b[39m\u001b[35mparse\u001b[39m\n\u001b[31m    \u001b[39m\u001b[31mself._root = parser._parse_whole(source)\u001b[39m\n",
      "  \u001b[36mFile \u001b[39m\u001b[32m<string>\u001b[39m\n\u001b[31mParseError\u001b[39m\u001b[31m:\u001b[39m not well-formed (invalid token): line 1, column 1\n"
     ]
    }
   ],
   "source": [
    "import xml.etree.ElementTree as ET\n",
    "\n",
    "# Carica il file\n",
    "tree = ET.parse('data/2025_04/IT00071630149_04PR7.xml.p7m')\n",
    "root = tree.getroot()\n",
    "\n",
    "# Stampa il tag root\n",
    "print(root.tag)\n",
    "\n",
    "# Itera sui figli\n",
    "for child in root:\n",
    "    print(child.tag, child.attrib, child.text)"
   ]
  },
  {
   "cell_type": "code",
   "execution_count": 6,
   "id": "97323be3",
   "metadata": {},
   "outputs": [],
   "source": [
    "path_xml_pm7 = 'data/2025_04/IT00071630149_04PR7.xml.p7m'\n",
    "path_xml = 'data/2025_04/IT00071630149_04PR7_MT_001.xml'"
   ]
  },
  {
   "cell_type": "code",
   "execution_count": 10,
   "id": "0eb539ed",
   "metadata": {},
   "outputs": [
    {
     "name": "stdout",
     "output_type": "stream",
     "text": [
      "FatturaElettronicaHeader {}\n",
      "FatturaElettronicaBody {}\n"
     ]
    }
   ],
   "source": [
    "import xml.etree.ElementTree as ET\n",
    "\n",
    "tree = ET.parse('file_estratto.xml')\n",
    "root = tree.getroot()\n",
    "\n",
    "# Esempio: stampa i tag principali\n",
    "for child in root:\n",
    "    print(child.tag, child.attrib)"
   ]
  },
  {
   "cell_type": "code",
   "execution_count": 9,
   "id": "07250b3b",
   "metadata": {},
   "outputs": [
    {
     "name": "stderr",
     "output_type": "stream",
     "text": [
      "Verification successful\n"
     ]
    }
   ],
   "source": [
    "import subprocess\n",
    "\n",
    "def estrai_xml_da_p7m(file_p7m, output_xml):\n",
    "    comando = [\n",
    "        \"openssl\", \"smime\", \"-verify\",\n",
    "        \"-in\", file_p7m,\n",
    "        \"-inform\", \"DER\",\n",
    "        \"-noverify\",\n",
    "        \"-out\", output_xml\n",
    "    ]\n",
    "    subprocess.run(comando, check=True)\n",
    "\n",
    "estrai_xml_da_p7m(path_xml_pm7, \"file_estratto.xml\")"
   ]
  },
  {
   "cell_type": "code",
   "execution_count": null,
   "id": "131c56e9",
   "metadata": {},
   "outputs": [],
   "source": []
  },
  {
   "cell_type": "code",
   "execution_count": null,
   "id": "65b1a2ef",
   "metadata": {},
   "outputs": [],
   "source": [
    "import xml.etree.ElementTree as ET\n",
    "\n",
    "# Il tuo XML (sostituisci con la lettura da file se necessario)\n",
    "xml_data = '''<?xml version=\"1.0\" encoding=\"UTF-8\"?>\n",
    "<?xml-stylesheet  type='text/xsl' href='fatturapr_v1.8.xsl'?>\n",
    "<p:FatturaElettronica versione=\"FPR12\" xmlns:p=\"http://ivaservizi.agenziaentrate.gov.it/docs/xsd/fatture/v1.2\" xmlns:xsi=\"http://www.w3.org/2001/XMLSchema-instance\">\n",
    "    <!-- Il resto del tuo XML... -->\n",
    "</p:FatturaElettronica>'''\n",
    "\n",
    "# Parsing dell'XML\n",
    "root = ET.fromstring(xml_data)\n",
    "\n",
    "# Namespace per evitare problemi con i prefissi\n",
    "namespaces = {\n",
    "    'p': 'http://ivaservizi.agenziaentrate.gov.it/docs/xsd/fatture/v1.2'\n",
    "}\n",
    "\n",
    "# Trova l'elemento ImportoTotaleDocumento\n",
    "importo_totale = root.find(\n",
    "    './/p:FatturaElettronicaBody/p:DatiGenerali/p:DatiGeneraliDocumento/p:ImportoTotaleDocumento',\n",
    "    namespaces\n",
    ")\n",
    "\n",
    "if importo_totale is not None:\n",
    "    print(f\"ImportoTotaleDocumento: {importo_totale.text}\")\n",
    "else:\n",
    "    print(\"Elemento ImportoTotaleDocumento non trovato\")"
   ]
  },
  {
   "cell_type": "code",
   "execution_count": 11,
   "id": "461511ea",
   "metadata": {},
   "outputs": [
    {
     "name": "stdout",
     "output_type": "stream",
     "text": [
      "Elemento ImportoTotaleDocumento non trovato\n"
     ]
    }
   ],
   "source": [
    "import xml.etree.ElementTree as ET\n",
    "\n",
    "# Percorso del file XML (modifica se necessario)\n",
    "file_path = 'file_estratto.xml'\n",
    "\n",
    "# Parsing del file XML\n",
    "tree = ET.parse(file_path)\n",
    "root = tree.getroot()\n",
    "\n",
    "# Namespace per evitare problemi con i prefissi\n",
    "namespaces = {\n",
    "    'p': 'http://ivaservizi.agenziaentrate.gov.it/docs/xsd/fatture/v1.2'\n",
    "}\n",
    "\n",
    "# Trova l'elemento ImportoTotaleDocumento\n",
    "importo_totale = root.find(\n",
    "    './/p:FatturaElettronicaBody/p:DatiGenerali/p:DatiGeneraliDocumento/p:ImportoTotaleDocumento',\n",
    "    namespaces\n",
    ")\n",
    "\n",
    "if importo_totale is not None:\n",
    "    print(f\"ImportoTotaleDocumento: {importo_totale.text}\")\n",
    "else:\n",
    "    print(\"Elemento ImportoTotaleDocumento non trovato\")"
   ]
  },
  {
   "cell_type": "code",
   "execution_count": null,
   "id": "ad05b7fa",
   "metadata": {},
   "outputs": [],
   "source": []
  },
  {
   "cell_type": "code",
   "execution_count": null,
   "id": "662e589a",
   "metadata": {},
   "outputs": [],
   "source": []
  },
  {
   "cell_type": "code",
   "execution_count": 12,
   "id": "c26c33c0",
   "metadata": {},
   "outputs": [],
   "source": [
    "import xml.etree.ElementTree as ET\n",
    "\n",
    "# Percorso del file XML\n",
    "file_path = 'file_estratto.xml'\n",
    "\n",
    "# Parsing del file XML\n",
    "tree = ET.parse(file_path)\n",
    "root = tree.getroot()\n",
    "\n",
    "# Namespace (estratto dall'XML)\n",
    "namespaces = {\n",
    "    'p': 'http://ivaservizi.agenziaentrate.gov.it/docs/xsd/fatture/v1.2'\n",
    "}\n",
    "\n",
    "# Cerca ImportoTotaleDocumento con il namespace corretto\n",
    "importo_totale = root.find(\n",
    "    './/p:FatturaElettronicaBody/p:DatiGenerali/p:DatiGeneraliDocumento/p:ImportoTotaleDocumento',\n",
    "    namespaces\n",
    ")\n",
    "\n",
    "if importo_totale is not None:\n",
    "    print(f\"ImportoTotaleDocumento: {importo_totale.text}\")"
   ]
  },
  {
   "cell_type": "code",
   "execution_count": 13,
   "id": "0881dcef",
   "metadata": {},
   "outputs": [],
   "source": [
    "importo_totale"
   ]
  },
  {
   "cell_type": "code",
   "execution_count": 15,
   "id": "29f59718",
   "metadata": {},
   "outputs": [
    {
     "name": "stdout",
     "output_type": "stream",
     "text": [
      "FatturaElettronicaHeader {}\n",
      "FatturaElettronicaBody {}\n"
     ]
    }
   ],
   "source": [
    "# Esempio: stampa i tag principali\n",
    "for child in root:\n",
    "    print(child.tag, child.attrib)"
   ]
  },
  {
   "cell_type": "code",
   "execution_count": 36,
   "id": "c31da685",
   "metadata": {},
   "outputs": [
    {
     "name": "stdout",
     "output_type": "stream",
     "text": [
      "qui 1\n",
      "qui 1\n",
      "qui 2\n",
      "IdPaese: IT\n",
      "qui 1\n",
      "qui 3\n",
      "IdCodice: 00071630149\n",
      "Denominazione: FRATELLI TRUSSONI SRL UNIPERSONALE -Soc. sogg.dir.e coord.La Trus Srl\n",
      "qui 1\n",
      "qui 1\n",
      "qui 2\n",
      "IdPaese: IT\n",
      "qui 1\n",
      "qui 3\n",
      "IdCodice: 01087820146\n",
      "Denominazione: BIAVASCHI ANDREA\n",
      "Importo totale documento: 19412.01\n"
     ]
    }
   ],
   "source": [
    "import xml.etree.ElementTree as ET\n",
    "\n",
    "tree = ET.parse(\"file_estratto.xml\")\n",
    "root = tree.getroot()\n",
    "\n",
    "def strip_ns(tag):\n",
    "    return tag.split('}')[-1] if '}' in tag else tag\n",
    "\n",
    "# Cerca il tag FatturaElettronicaBody\n",
    "for elem in root.iter():\n",
    "    if strip_ns(elem.tag) == \"FatturaElettronicaBody\":\n",
    "        for subelem in elem.iter():\n",
    "            if strip_ns(subelem.tag) == \"ImportoTotaleDocumento\":\n",
    "                importo = subelem.text\n",
    "                print(\"Importo totale documento:\", importo)\n",
    "\n",
    "    elif strip_ns(elem.tag) == \"FatturaElettronicaHeader\":\n",
    "        for subelem in elem.iter():\n",
    "            if strip_ns(subelem.tag) == \"Denominazione\":\n",
    "                denominazione = subelem.text\n",
    "                print(\"Denominazione:\", denominazione)\n",
    "            elif strip_ns(subelem.tag) == \"IdFiscaleIVA\":\n",
    "                for sub_subelem in subelem.iter():\n",
    "                    # print(sub_subelem)\n",
    "                    print(\"qui 1\")\n",
    "                    if strip_ns(sub_subelem.tag) == \"IdPaese\":\n",
    "                        print(\"qui 2\")\n",
    "                        IdPaese = sub_subelem.text\n",
    "                        print(\"IdPaese:\", IdPaese)\n",
    "                    elif strip_ns(sub_subelem.tag) == \"IdCodice\":\n",
    "                        print(\"qui 3\")\n",
    "                        IdCodice = sub_subelem.text\n",
    "                        print(\"IdCodice:\", IdCodice)"
   ]
  },
  {
   "cell_type": "code",
   "execution_count": null,
   "id": "388d574a",
   "metadata": {},
   "outputs": [],
   "source": []
  },
  {
   "cell_type": "code",
   "execution_count": 38,
   "id": "3165c346",
   "metadata": {},
   "outputs": [
    {
     "ename": "AttributeError",
     "evalue": "'NoneType' object has no attribute 'text'",
     "output_type": "error",
     "traceback": [
      "\u001b[31m---------------------------------------------------------------------------\u001b[39m",
      "\u001b[31mAttributeError\u001b[39m                            Traceback (most recent call last)",
      "\u001b[36mCell\u001b[39m\u001b[36m \u001b[39m\u001b[32mIn[38]\u001b[39m\u001b[32m, line 12\u001b[39m\n\u001b[32m      9\u001b[39m ns = {\u001b[33m'\u001b[39m\u001b[33mp\u001b[39m\u001b[33m'\u001b[39m: \u001b[33m'\u001b[39m\u001b[33mhttp://ivaservizi.agenziaentrate.gov.it/docs/xsd/fatture/v1.2\u001b[39m\u001b[33m'\u001b[39m}\n\u001b[32m     11\u001b[39m \u001b[38;5;66;03m# Estrai i dati del CedentePrestatore\u001b[39;00m\n\u001b[32m---> \u001b[39m\u001b[32m12\u001b[39m cedente_id = \u001b[43mroot\u001b[49m\u001b[43m.\u001b[49m\u001b[43mfind\u001b[49m\u001b[43m(\u001b[49m\u001b[33;43m'\u001b[39;49m\u001b[33;43m.//p:CedentePrestatore/p:DatiAnagrafici/p:IdFiscaleIVA/p:IdCodice\u001b[39;49m\u001b[33;43m'\u001b[39;49m\u001b[43m,\u001b[49m\u001b[43m \u001b[49m\u001b[43mns\u001b[49m\u001b[43m)\u001b[49m\u001b[43m.\u001b[49m\u001b[43mtext\u001b[49m\n\u001b[32m     13\u001b[39m cedente_den = root.find(\u001b[33m'\u001b[39m\u001b[33m.//p:CedentePrestatore/p:DatiAnagrafici/p:Anagrafica/p:Denominazione\u001b[39m\u001b[33m'\u001b[39m, ns).text\n\u001b[32m     15\u001b[39m \u001b[38;5;66;03m# Estrai i dati del CessionarioCommittente\u001b[39;00m\n",
      "\u001b[31mAttributeError\u001b[39m: 'NoneType' object has no attribute 'text'"
     ]
    }
   ],
   "source": [
    "import xml.etree.ElementTree as ET\n",
    "import pandas as pd\n",
    "\n",
    "# Carica e parse il file XML\n",
    "tree = ET.parse(\"file_estratto.xml\")  # Sostituisci con il tuo percorso\n",
    "root = tree.getroot()\n",
    "\n",
    "# Namespace usato nel file\n",
    "ns = {'p': 'http://ivaservizi.agenziaentrate.gov.it/docs/xsd/fatture/v1.2'}\n",
    "\n",
    "# Estrai i dati del CedentePrestatore\n",
    "cedente_id = root.find('.//p:CedentePrestatore/p:DatiAnagrafici/p:IdFiscaleIVA/p:IdCodice', ns).text\n",
    "cedente_den = root.find('.//p:CedentePrestatore/p:DatiAnagrafici/p:Anagrafica/p:Denominazione', ns).text\n",
    "\n",
    "# Estrai i dati del CessionarioCommittente\n",
    "cessionario_id = root.find('.//p:CessionarioCommittente/p:DatiAnagrafici/p:IdFiscaleIVA/p:IdCodice', ns).text\n",
    "cessionario_den = root.find('.//p:CessionarioCommittente/p:DatiAnagrafici/p:Anagrafica/p:Denominazione', ns).text\n",
    "\n",
    "# Crea un dizionario per la tabella\n",
    "data = {\n",
    "    'IdFiscaleIVA_Cedente': [cedente_id],\n",
    "    'Denominazione_Cedente': [cedente_den],\n",
    "    'IdFiscaleIVA_Cessionario': [cessionario_id],\n",
    "    'Denominazione_Cessionario': [cessionario_den]\n",
    "}\n",
    "\n",
    "# Crea un DataFrame\n",
    "df = pd.DataFrame(data)\n",
    "\n",
    "df\n"
   ]
  },
  {
   "cell_type": "code",
   "execution_count": 41,
   "id": "ddc5da51",
   "metadata": {},
   "outputs": [
    {
     "name": "stdout",
     "output_type": "stream",
     "text": [
      "⚠️ Attenzione: alcuni elementi non sono stati trovati. Verifica la struttura XML.\n",
      "Cedente ID: None\n",
      "Cedente Denominazione: None\n",
      "Cessionario ID: None\n",
      "Cessionario Denominazione: None\n",
      "  IdFiscaleIVA_Cedente Denominazione_Cedente IdFiscaleIVA_Cessionario  \\\n",
      "0                 None                  None                     None   \n",
      "\n",
      "  Denominazione_Cessionario  \n",
      "0                      None  \n"
     ]
    }
   ],
   "source": [
    "import xml.etree.ElementTree as ET\n",
    "import pandas as pd\n",
    "\n",
    "# Carica il file XML\n",
    "tree = ET.parse(\"file_estratto.xml\")  # Sostituisci con il percorso corretto\n",
    "root = tree.getroot()\n",
    "\n",
    "# Definisci il namespace\n",
    "ns = {'p': 'http://ivaservizi.agenziaentrate.gov.it/docs/xsd/fatture/v1.2'}\n",
    "\n",
    "def get_text_or_none(path):\n",
    "    el = root.find(path, ns)\n",
    "    return el.text if el is not None else None\n",
    "\n",
    "# Estrai i dati\n",
    "cedente_id = get_text_or_none('.//p:CedentePrestatore/p:DatiAnagrafici/p:IdFiscaleIVA/p:IdCodice')\n",
    "cedente_den = get_text_or_none('.//p:CedentePrestatore/p:DatiAnagrafici/p:Anagrafica/p:Denominazione')\n",
    "\n",
    "cessionario_id = get_text_or_none('.//p:CessionarioCommittente/p:DatiAnagrafici/p:IdFiscaleIVA/p:IdCodice')\n",
    "cessionario_den = get_text_or_none('.//p:CessionarioCommittente/p:DatiAnagrafici/p:Anagrafica/p:Denominazione')\n",
    "\n",
    "# Verifica che tutti i dati siano presenti\n",
    "if None in [cedente_id, cedente_den, cessionario_id, cessionario_den]:\n",
    "    print(\"⚠️ Attenzione: alcuni elementi non sono stati trovati. Verifica la struttura XML.\")\n",
    "    print(\"Cedente ID:\", cedente_id)\n",
    "    print(\"Cedente Denominazione:\", cedente_den)\n",
    "    print(\"Cessionario ID:\", cessionario_id)\n",
    "    print(\"Cessionario Denominazione:\", cessionario_den)\n",
    "\n",
    "# Crea la tabella\n",
    "df = pd.DataFrame([{\n",
    "    'IdFiscaleIVA_Cedente': cedente_id,\n",
    "    'Denominazione_Cedente': cedente_den,\n",
    "    'IdFiscaleIVA_Cessionario': cessionario_id,\n",
    "    'Denominazione_Cessionario': cessionario_den\n",
    "}])\n",
    "\n",
    "print(df)\n"
   ]
  },
  {
   "cell_type": "code",
   "execution_count": null,
   "id": "5b995436",
   "metadata": {},
   "outputs": [],
   "source": []
  },
  {
   "cell_type": "code",
   "execution_count": 42,
   "id": "883ea4d4",
   "metadata": {},
   "outputs": [
    {
     "name": "stdout",
     "output_type": "stream",
     "text": [
      "Cedente ID: None\n",
      "Cedente Denominazione: None\n",
      "Cessionario ID: None\n",
      "Cessionario Denominazione: None\n",
      "  IdFiscaleIVA_Cedente Denominazione_Cedente IdFiscaleIVA_Cessionario  \\\n",
      "0                 None                  None                     None   \n",
      "\n",
      "  Denominazione_Cessionario  \n",
      "0                      None  \n"
     ]
    }
   ],
   "source": [
    "import xml.etree.ElementTree as ET\n",
    "import pandas as pd\n",
    "\n",
    "# Carica il file XML\n",
    "tree = ET.parse('file_estratto.xml')\n",
    "root = tree.getroot()\n",
    "\n",
    "# Namespace: nota che 'p' deve corrispondere a quello definito nel file\n",
    "ns = {'p': 'http://ivaservizi.agenziaentrate.gov.it/docs/xsd/fatture/v1.2'}\n",
    "\n",
    "def find_text(path):\n",
    "    elem = root.find(path, ns)\n",
    "    return elem.text if elem is not None else None\n",
    "\n",
    "# Estrai dati cedente/prestatore\n",
    "cedente_id = find_text('.//p:CedentePrestatore/p:DatiAnagrafici/p:IdFiscaleIVA/p:IdCodice')\n",
    "cedente_den = find_text('.//p:CedentePrestatore/p:DatiAnagrafici/p:Anagrafica/p:Denominazione')\n",
    "\n",
    "# Estrai dati cessionario/committente\n",
    "cessionario_id = find_text('.//p:CessionarioCommittente/p:DatiAnagrafici/p:IdFiscaleIVA/p:IdCodice')\n",
    "cessionario_den = find_text('.//p:CessionarioCommittente/p:DatiAnagrafici/p:Anagrafica/p:Denominazione')\n",
    "\n",
    "# Stampa di controllo\n",
    "print(\"Cedente ID:\", cedente_id)\n",
    "print(\"Cedente Denominazione:\", cedente_den)\n",
    "print(\"Cessionario ID:\", cessionario_id)\n",
    "print(\"Cessionario Denominazione:\", cessionario_den)\n",
    "\n",
    "# Crea DataFrame\n",
    "df = pd.DataFrame([{\n",
    "    'IdFiscaleIVA_Cedente': cedente_id,\n",
    "    'Denominazione_Cedente': cedente_den,\n",
    "    'IdFiscaleIVA_Cessionario': cessionario_id,\n",
    "    'Denominazione_Cessionario': cessionario_den\n",
    "}])\n",
    "\n",
    "print(df)\n"
   ]
  },
  {
   "cell_type": "code",
   "execution_count": null,
   "id": "508eac1b",
   "metadata": {},
   "outputs": [],
   "source": []
  },
  {
   "cell_type": "code",
   "execution_count": null,
   "id": "6a097f84",
   "metadata": {},
   "outputs": [],
   "source": []
  }
 ],
 "metadata": {
  "kernelspec": {
   "display_name": ".venv",
   "language": "python",
   "name": "python3"
  },
  "language_info": {
   "codemirror_mode": {
    "name": "ipython",
    "version": 3
   },
   "file_extension": ".py",
   "mimetype": "text/x-python",
   "name": "python",
   "nbconvert_exporter": "python",
   "pygments_lexer": "ipython3",
   "version": "3.11.1"
  }
 },
 "nbformat": 4,
 "nbformat_minor": 5
}
