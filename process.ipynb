{
 "cells": [
  {
   "cell_type": "code",
   "execution_count": 84,
   "id": "97d68cb5",
   "metadata": {},
   "outputs": [],
   "source": [
    "import subprocess\n",
    "import os\n",
    "import shutil\n",
    "\n",
    "import xml.etree.ElementTree as ET"
   ]
  },
  {
   "cell_type": "code",
   "execution_count": 48,
   "id": "97323be3",
   "metadata": {},
   "outputs": [],
   "source": [
    "path_xml_pm7 = 'data/raw/2025_04/IT00071630149_04PR7.xml.p7m'\n",
    "path_xml = 'data/raw/2025_04/IT00071630149_04PR7_MT_001.xml'\n",
    "\n",
    "file_estratto = 'file_estratto.xml'"
   ]
  },
  {
   "cell_type": "markdown",
   "id": "a60bb595",
   "metadata": {},
   "source": [
    "## Utils"
   ]
  },
  {
   "cell_type": "code",
   "execution_count": 75,
   "id": "a01636a9",
   "metadata": {},
   "outputs": [],
   "source": [
    "# def estrai_xml_da_p7m(file_p7m, output_xml):\n",
    "#     comando = [\n",
    "#         \"openssl\", \"smime\", \"-verify\",\n",
    "#         \"-in\", file_p7m,\n",
    "#         \"-inform\", \"DER\",\n",
    "#         \"-noverify\",\n",
    "#         \"-out\", output_xml\n",
    "#     ]\n",
    "#     subprocess.run(comando, check=True)\n",
    "\n",
    "\n",
    "\n",
    "def estrai_xml_da_p7m(file_p7m, output_xml):\n",
    "    try:\n",
    "        # Primo tentativo con openssl\n",
    "        subprocess.run([\n",
    "            \"openssl\", \"smime\", \"-verify\",\n",
    "            \"-inform\", \"DER\",\n",
    "            \"-noverify\",\n",
    "            \"-in\", file_p7m,\n",
    "            \"-out\", output_xml\n",
    "        ], check=True)\n",
    "    except subprocess.CalledProcessError:\n",
    "        print(\"[!] Primo tentativo fallito: provo a estrarre a mano il contenuto XML.\")\n",
    "\n",
    "        with open(file_p7m, \"rb\") as f:\n",
    "            content = f.read()\n",
    "\n",
    "        # Cerca l'inizio del tag <?xml e taglia da lì\n",
    "        start = content.find(b\"<?xml\")\n",
    "        if start == -1:\n",
    "            raise ValueError(\"Contenuto XML non trovato nel file .p7m\")\n",
    "\n",
    "        end = content.find(b\"</p:FatturaElettronica>\")\n",
    "        if end == -1:\n",
    "            raise ValueError(\"Tag di chiusura </p:FatturaElettronica> non trovato nel file .p7m\")\n",
    "\n",
    "        xml_content = content[start:end]\n",
    "\n",
    "        xml_content += b\"</p:FatturaElettronica>\"\n",
    "\n",
    "        # Salva il contenuto su file\n",
    "        with open(output_xml, \"wb\") as out:\n",
    "            out.write(xml_content)\n",
    "\n",
    "        print(\"[✓] Estrazione manuale completata.\")"
   ]
  },
  {
   "cell_type": "markdown",
   "id": "6cd7fe21",
   "metadata": {},
   "source": [
    "### Estrazione file .pm7 in file xml"
   ]
  },
  {
   "cell_type": "code",
   "execution_count": 82,
   "id": "bdb69db1",
   "metadata": {},
   "outputs": [],
   "source": [
    "# estrai_xml_da_p7m(path_xml_pm7, \"file_estratto4.xml\")"
   ]
  },
  {
   "cell_type": "markdown",
   "id": "fb395436",
   "metadata": {},
   "source": [
    "## Crea cartella in preprocessed"
   ]
  },
  {
   "cell_type": "code",
   "execution_count": 83,
   "id": "a685f6bf",
   "metadata": {},
   "outputs": [
    {
     "name": "stdout",
     "output_type": "stream",
     "text": [
      "📄 Copiato: IT016417907022025p_04z1c.xml\n",
      "[!] Primo tentativo fallito: provo a estrarre a mano il contenuto XML.\n",
      "[✓] Estrazione manuale completata.\n",
      "✔ Estratto: IT02046570426_buVVz.xml.p7m\n",
      "✔ Estratto: IT04107060966_4New0.xml.p7m\n"
     ]
    },
    {
     "name": "stderr",
     "output_type": "stream",
     "text": [
      "Verification failure\n",
      "C0ADD543F87F0000:error:02000068:rsa routines:ossl_rsa_verify:bad signature:crypto/rsa/rsa_sign.c:442:\n",
      "C0ADD543F87F0000:error:1C880004:Provider routines:rsa_verify_directly:RSA lib:providers/implementations/signature/rsa_sig.c:1041:\n",
      "C0ADD543F87F0000:error:10800069:PKCS7 routines:PKCS7_signatureVerify:signature failure:crypto/pkcs7/pk7_doit.c:1124:\n",
      "C0ADD543F87F0000:error:10800069:PKCS7 routines:PKCS7_verify:signature failure:crypto/pkcs7/pk7_smime.c:349:\n",
      "Verification successful\n",
      "Verification successful\n"
     ]
    },
    {
     "name": "stdout",
     "output_type": "stream",
     "text": [
      "📄 Copiato: IT01533080675_8HFec.xml\n",
      "📄 Copiato: IT07207660486_FvBck.xml\n",
      "📄 Copiato: IT00950440149_000LM.xml\n",
      "✔ Estratto: IT07614280969_016WL.xml.p7m\n",
      "📄 Copiato: IT01533080675_8HFee.xml\n",
      "📄 Copiato: IT016417907022025J_04xTj.xml\n",
      "📄 Copiato: IT02313821007_N17W8.xml\n",
      "📄 Copiato: IT07207660486_FtG7R.xml\n",
      "✔ Estratto: IT01895030995X0001_FYQNA.xml.p7m\n",
      "📄 Copiato: IT01533080675_8GgLv.xml\n",
      "📄 Copiato: IT07207660486_FtG61.xml\n",
      "📄 Copiato: IT016417907022025S_04BFy.xml\n",
      "📄 Copiato: IT01378570350_l2zhP.xml\n",
      "📄 Copiato: IT01378570350_ksOOY.xml\n"
     ]
    },
    {
     "name": "stderr",
     "output_type": "stream",
     "text": [
      "Verification successful\n",
      "Verification successful\n",
      "Verification successful\n",
      "Verification successful\n"
     ]
    },
    {
     "name": "stdout",
     "output_type": "stream",
     "text": [
      "✔ Estratto: IT00712540145_00BZF.xml.p7m\n",
      "📄 Copiato: IT01336610587_0fFgV.xml\n",
      "📄 Copiato: ITTRBVNT91B45F712C_15060.xml\n",
      "✔ Estratto: IT01895030995X0001_FS0H9.xml.p7m\n",
      "📄 Copiato: IT02674600016_00FVD.xml\n",
      "📄 Copiato: IT016417907022025e_03SPr.xml\n",
      "📄 Copiato: IT00486780109_016E0.xml\n",
      "📄 Copiato: IT01336610587_0fFgT.xml\n",
      "✔ Estratto: IT0526289001425107_6M6AG.xml.p7m\n"
     ]
    },
    {
     "name": "stderr",
     "output_type": "stream",
     "text": [
      "Verification failure\n",
      "C0ADD543F87F0000:error:02000068:rsa routines:ossl_rsa_verify:bad signature:crypto/rsa/rsa_sign.c:442:\n",
      "C0ADD543F87F0000:error:1C880004:Provider routines:rsa_verify_directly:RSA lib:providers/implementations/signature/rsa_sig.c:1041:\n",
      "C0ADD543F87F0000:error:10800069:PKCS7 routines:PKCS7_signatureVerify:signature failure:crypto/pkcs7/pk7_doit.c:1124:\n",
      "C0ADD543F87F0000:error:10800069:PKCS7 routines:PKCS7_verify:signature failure:crypto/pkcs7/pk7_smime.c:349:\n",
      "Verification successful\n"
     ]
    },
    {
     "name": "stdout",
     "output_type": "stream",
     "text": [
      "[!] Primo tentativo fallito: provo a estrarre a mano il contenuto XML.\n",
      "[✓] Estrazione manuale completata.\n",
      "✔ Estratto: IT0200275048300000_OZNED.xml.p7m\n",
      "✔ Estratto: IT02355260981_ZSJVC.xml.p7m\n"
     ]
    },
    {
     "name": "stderr",
     "output_type": "stream",
     "text": [
      "Verification successful\n",
      "Verification failure\n",
      "C0ADD543F87F0000:error:02000068:rsa routines:ossl_rsa_verify:bad signature:crypto/rsa/rsa_sign.c:442:\n",
      "C0ADD543F87F0000:error:1C880004:Provider routines:rsa_verify_directly:RSA lib:providers/implementations/signature/rsa_sig.c:1041:\n",
      "C0ADD543F87F0000:error:10800069:PKCS7 routines:PKCS7_signatureVerify:signature failure:crypto/pkcs7/pk7_doit.c:1124:\n",
      "C0ADD543F87F0000:error:10800069:PKCS7 routines:PKCS7_verify:signature failure:crypto/pkcs7/pk7_smime.c:349:\n",
      "Verification failure\n",
      "C0ADD543F87F0000:error:02000068:rsa routines:ossl_rsa_verify:bad signature:crypto/rsa/rsa_sign.c:442:\n",
      "C0ADD543F87F0000:error:1C880004:Provider routines:rsa_verify_directly:RSA lib:providers/implementations/signature/rsa_sig.c:1041:\n",
      "C0ADD543F87F0000:error:10800069:PKCS7 routines:PKCS7_signatureVerify:signature failure:crypto/pkcs7/pk7_doit.c:1124:\n",
      "C0ADD543F87F0000:error:10800069:PKCS7 routines:PKCS7_verify:signature failure:crypto/pkcs7/pk7_smime.c:349:\n"
     ]
    },
    {
     "name": "stdout",
     "output_type": "stream",
     "text": [
      "✔ Estratto: IT01934790971_fkfed.xml.p7m\n",
      "[!] Primo tentativo fallito: provo a estrarre a mano il contenuto XML.\n",
      "[✓] Estrazione manuale completata.\n",
      "✔ Estratto: IT02046570426_bw2aQ.xml.p7m\n",
      "[!] Primo tentativo fallito: provo a estrarre a mano il contenuto XML.\n",
      "[✓] Estrazione manuale completata.\n",
      "✔ Estratto: IT02046570426_bqCdx.xml.p7m\n"
     ]
    },
    {
     "name": "stderr",
     "output_type": "stream",
     "text": [
      "Verification successful\n",
      "Verification successful\n",
      "Verification successful\n"
     ]
    },
    {
     "name": "stdout",
     "output_type": "stream",
     "text": [
      "✔ Estratto: IT01895030995X0001_FYR7W.xml.p7m\n",
      "📄 Copiato: IT01378570350_kuuPu.xml\n",
      "📄 Copiato: IT07031780484_1cQlg.xml\n",
      "✔ Estratto: IT00071630149_04PR7.xml.p7m\n",
      "✔ Estratto: IT01895030995X0001_FIC8R.xml.p7m\n"
     ]
    },
    {
     "name": "stderr",
     "output_type": "stream",
     "text": [
      "Verification successful\n",
      "Verification successful\n",
      "Verification successful\n",
      "Verification successful\n"
     ]
    },
    {
     "name": "stdout",
     "output_type": "stream",
     "text": [
      "✔ Estratto: IT01895030995X0001_FOMCV.xml.p7m\n",
      "✔ Estratto: IT03618500403_2Ddux.xml.p7m\n",
      "📄 Copiato: IT016417907022025W_04zA8.xml\n",
      "✔ Estratto: IT01934790971_ewxn7.xml.p7m\n",
      "✔ Estratto: IT01895030995X0001_FIC8S.xml.p7m\n",
      "📄 Copiato: IT08567210961_yZOg4.xml\n",
      "📄 Copiato: IT01378570350_l0Vyz.xml\n",
      "✔ Estratto: IT01895030995X0001_FYRFE.xml.p7m\n",
      "✅ Processing completato.\n"
     ]
    },
    {
     "name": "stderr",
     "output_type": "stream",
     "text": [
      "Verification successful\n"
     ]
    }
   ],
   "source": [
    "# Percorsi cartelle\n",
    "input_dir = \"data/raw/2025_04\"\n",
    "output_dir = \"data/processed/2025_04\"\n",
    "\n",
    "# Crea la cartella di destinazione se non esiste\n",
    "os.makedirs(output_dir, exist_ok=True)\n",
    "\n",
    "# Scorri tutti i file nella cartella di input\n",
    "for filename in os.listdir(input_dir):\n",
    "    if \"_MT_\" in filename:\n",
    "        continue  # Ignora i file metadati\n",
    "\n",
    "    full_input_path = os.path.join(input_dir, filename)\n",
    "\n",
    "    if filename.endswith(\".xml.p7m\"):\n",
    "        # Rimuove .p7m per ottenere il nome del file XML di output\n",
    "        output_filename = filename[:-4]  # Rimuove gli ultimi 4 caratteri: \".p7m\"\n",
    "        full_output_path = os.path.join(output_dir, output_filename)\n",
    "        try:\n",
    "            estrai_xml_da_p7m(full_input_path, full_output_path)\n",
    "            print(f\"✔ Estratto: {filename}\")\n",
    "        except subprocess.CalledProcessError:\n",
    "            print(f\"❌ Errore nell'estrazione di: {filename}\")\n",
    "\n",
    "    elif filename.endswith(\".xml\"):\n",
    "        full_output_path = os.path.join(output_dir, filename)\n",
    "        shutil.copy(full_input_path, full_output_path)\n",
    "        print(f\"📄 Copiato: {filename}\")\n",
    "\n",
    "print(\"✅ Processing completato.\")"
   ]
  },
  {
   "cell_type": "markdown",
   "id": "7e36f4d3",
   "metadata": {},
   "source": [
    "# Crea df fatture"
   ]
  },
  {
   "cell_type": "code",
   "execution_count": null,
   "id": "9831fc0f",
   "metadata": {},
   "outputs": [
    {
     "name": "stdout",
     "output_type": "stream",
     "text": [
      "IdPaese_Mittente IT\n",
      "IdCodice_Mittente 00970560140\n",
      "Denominazione: Alimentari Fazari Sas di Fazari Giuseppe e Daniele e C.\n",
      "IdPaese_Destinatario IT\n",
      "IdCodice_Destinatario 01087820146\n",
      "Denominazione: biavaschi andrea\n",
      "Importo totale documento: 537.63\n",
      "Data Fattura: 2025-04-30\n",
      "Numero Fattura: 128\n"
     ]
    }
   ],
   "source": [
    "tree = ET.parse(\"file_estratto4.xml\")\n",
    "root = tree.getroot()\n",
    "\n",
    "def strip_ns(tag):\n",
    "    return tag.split('}')[-1] if '}' in tag else tag\n",
    "\n",
    "# Trova il nodo Header\n",
    "for elem in root.iter():\n",
    "    if strip_ns(elem.tag) == \"FatturaElettronicaHeader\":\n",
    "\n",
    "        # CedentePrestatore (mittente)\n",
    "        cedente = elem.find(\".//{*}CedentePrestatore\")\n",
    "        if cedente is not None:\n",
    "            id_fiscale = cedente.find(\".//{*}IdFiscaleIVA\")\n",
    "            denominazione = cedente.find(\".//{*}Denominazione\")\n",
    "            if id_fiscale is not None:\n",
    "                id_paese = id_fiscale.find(\".//{*}IdPaese\")\n",
    "                id_codice = id_fiscale.find(\".//{*}IdCodice\")\n",
    "                if id_paese is not None: print(\"IdPaese_Mittente\", id_paese.text)\n",
    "                if id_codice is not None: print(\"IdCodice_Mittente\", id_codice.text)\n",
    "            if denominazione is not None:\n",
    "                print(\"Denominazione:\", denominazione.text)\n",
    "\n",
    "        # CessionarioCommittente (destinatario)\n",
    "        cessionario = elem.find(\".//{*}CessionarioCommittente\")\n",
    "        if cessionario is not None:\n",
    "            id_fiscale = cessionario.find(\".//{*}IdFiscaleIVA\")\n",
    "            denominazione = cessionario.find(\".//{*}Denominazione\")\n",
    "            if id_fiscale is not None:\n",
    "                id_paese = id_fiscale.find(\".//{*}IdPaese\")\n",
    "                id_codice = id_fiscale.find(\".//{*}IdCodice\")\n",
    "                if id_paese is not None: print(\"IdPaese_Destinatario\", id_paese.text)\n",
    "                if id_codice is not None: print(\"IdCodice_Destinatario\", id_codice.text)\n",
    "            if denominazione is not None:\n",
    "                print(\"Denominazione:\", denominazione.text)\n",
    "\n",
    "# Trova il totale del documento\n",
    "for elem in root.iter():\n",
    "    if strip_ns(elem.tag) == \"ImportoTotaleDocumento\":\n",
    "        print(\"Importo totale documento:\", elem.text)\n",
    "\n",
    "\n",
    "# Estrazione dei dati generali della fattura\n",
    "dati_generali_doc = root.find(\".//{*}DatiGeneraliDocumento\")\n",
    "data_fattura = None\n",
    "nr_fattura = None\n",
    "\n",
    "if dati_generali_doc is not None:\n",
    "    data = dati_generali_doc.find(\".//{*}Data\")\n",
    "    numero = dati_generali_doc.find(\".//{*}Numero\")\n",
    "    if data is not None:\n",
    "        data_fattura = data.text\n",
    "    if numero is not None:\n",
    "        nr_fattura = numero.text\n",
    "\n",
    "print(\"Data Fattura:\", data_fattura)\n",
    "print(\"Numero Fattura:\", nr_fattura)"
   ]
  },
  {
   "cell_type": "code",
   "execution_count": 44,
   "id": "208e0edb",
   "metadata": {},
   "outputs": [],
   "source": [
    "# # Data e numero fattura\n",
    "# dati_generali_doc = root.find(\".//{*}DatiGeneraliDocumento\")\n",
    "# if dati_generali_doc is not None:\n",
    "#     data = dati_generali_doc.find(\".//{*}Data\")\n",
    "#     numero = dati_generali_doc.find(\".//{*}Numero\")\n",
    "#     tipo_doc = dati_generali_doc.find(\".//{*}TipoDocumento\")\n",
    "#     if data is not None: print(\"Data fattura:\", data.text)\n",
    "#     if numero is not None: print(\"Numero fattura:\", numero.text)\n",
    "#     if tipo_doc is not None: print(\"Tipo documento:\", tipo_doc.text)\n",
    "\n",
    "# # Linee della fattura\n",
    "# for linea in root.findall(\".//{*}DettaglioLinee\"):\n",
    "#     descrizione = linea.find(\".//{*}Descrizione\")\n",
    "#     quantita = linea.find(\".//{*}Quantita\")\n",
    "#     prezzo_unitario = linea.find(\".//{*}PrezzoUnitario\")\n",
    "#     if descrizione is not None:\n",
    "#         print(f\"- Descrizione: {descrizione.text}\")\n",
    "#         if quantita is not None: print(f\"  Quantità: {quantita.text}\")\n",
    "#         if prezzo_unitario is not None: print(f\"  Prezzo unitario: {prezzo_unitario.text}\")\n"
   ]
  },
  {
   "cell_type": "code",
   "execution_count": 79,
   "id": "51f36bef",
   "metadata": {},
   "outputs": [],
   "source": [
    "import pandas as pd\n",
    "import xml.etree.ElementTree as ET\n",
    "\n",
    "tree = ET.parse(\"file_estratto4.xml\")\n",
    "root = tree.getroot()\n",
    "\n",
    "# Estrazione dei dati generali della fattura\n",
    "dati_generali_doc = root.find(\".//{*}DatiGeneraliDocumento\")\n",
    "data_fattura = None\n",
    "nr_fattura = None\n",
    "\n",
    "if dati_generali_doc is not None:\n",
    "    data = dati_generali_doc.find(\".//{*}Data\")\n",
    "    numero = dati_generali_doc.find(\".//{*}Numero\")\n",
    "    if data is not None:\n",
    "        data_fattura = data.text\n",
    "    if numero is not None:\n",
    "        nr_fattura = numero.text\n",
    "\n",
    "# Lista per raccogliere le righe della fattura\n",
    "righe_fattura = []\n",
    "\n",
    "# Estrazione delle linee della fattura\n",
    "for linea in root.findall(\".//{*}DettaglioLinee\"):\n",
    "    descrizione = linea.find(\".//{*}Descrizione\")\n",
    "    quantita = linea.find(\".//{*}Quantita\")\n",
    "    prezzo_unitario = linea.find(\".//{*}PrezzoUnitario\")\n",
    "    prezzo_totale = linea.find(\".//{*}PrezzoTotale\") \n",
    "    iva = linea.find(\".//{*}AliquotaIVA\")\n",
    "\n",
    "    riga = {\n",
    "        \"Data_Fattura\": data_fattura,\n",
    "        \"Nr_Fattura\": nr_fattura,\n",
    "        \"Descrizione\": descrizione.text if descrizione is not None else None,\n",
    "        \"Quantita\": float(quantita.text) if quantita is not None else None,\n",
    "        \"Prezzo_unit\": float(prezzo_unitario.text) if prezzo_unitario is not None else None,\n",
    "        \"Prezzo_tot\": float(prezzo_totale.text) if prezzo_totale is not None else None,\n",
    "        \"iva\": float(iva.text) if iva is not None else None,\n",
    "\n",
    "    }\n",
    "    righe_fattura.append(riga)\n",
    "\n",
    "# Creazione del DataFrame\n",
    "df_fattura = pd.DataFrame(righe_fattura)\n",
    "\n",
    "df_fattura['Prezzo_ivato'] = df_fattura['Prezzo_tot'] * (1 +  (df_fattura['iva'] / 100) )"
   ]
  },
  {
   "cell_type": "code",
   "execution_count": 80,
   "id": "1aa56c1b",
   "metadata": {},
   "outputs": [
    {
     "data": {
      "text/html": [
       "<div>\n",
       "<style scoped>\n",
       "    .dataframe tbody tr th:only-of-type {\n",
       "        vertical-align: middle;\n",
       "    }\n",
       "\n",
       "    .dataframe tbody tr th {\n",
       "        vertical-align: top;\n",
       "    }\n",
       "\n",
       "    .dataframe thead th {\n",
       "        text-align: right;\n",
       "    }\n",
       "</style>\n",
       "<table border=\"1\" class=\"dataframe\">\n",
       "  <thead>\n",
       "    <tr style=\"text-align: right;\">\n",
       "      <th></th>\n",
       "      <th>Data_Fattura</th>\n",
       "      <th>Nr_Fattura</th>\n",
       "      <th>Descrizione</th>\n",
       "      <th>Quantita</th>\n",
       "      <th>Prezzo_unit</th>\n",
       "      <th>Prezzo_tot</th>\n",
       "      <th>iva</th>\n",
       "      <th>Prezzo_ivato</th>\n",
       "    </tr>\n",
       "  </thead>\n",
       "  <tbody>\n",
       "    <tr>\n",
       "      <th>0</th>\n",
       "      <td>2025-04-30</td>\n",
       "      <td>128</td>\n",
       "      <td>PUNTA D ANCA lotto 27 02 2025</td>\n",
       "      <td>7.20</td>\n",
       "      <td>25.0</td>\n",
       "      <td>180.00</td>\n",
       "      <td>10.0</td>\n",
       "      <td>198.000</td>\n",
       "    </tr>\n",
       "    <tr>\n",
       "      <th>1</th>\n",
       "      <td>2025-04-30</td>\n",
       "      <td>128</td>\n",
       "      <td>SOTTOFESA lotto 27 02 2025</td>\n",
       "      <td>9.00</td>\n",
       "      <td>25.0</td>\n",
       "      <td>225.00</td>\n",
       "      <td>10.0</td>\n",
       "      <td>247.500</td>\n",
       "    </tr>\n",
       "    <tr>\n",
       "      <th>2</th>\n",
       "      <td>2025-04-30</td>\n",
       "      <td>128</td>\n",
       "      <td>PUNTA D ANCA lotto 27 02 2025</td>\n",
       "      <td>3.35</td>\n",
       "      <td>25.0</td>\n",
       "      <td>83.75</td>\n",
       "      <td>10.0</td>\n",
       "      <td>92.125</td>\n",
       "    </tr>\n",
       "  </tbody>\n",
       "</table>\n",
       "</div>"
      ],
      "text/plain": [
       "  Data_Fattura Nr_Fattura                    Descrizione  Quantita  \\\n",
       "0   2025-04-30        128  PUNTA D ANCA lotto 27 02 2025      7.20   \n",
       "1   2025-04-30        128     SOTTOFESA lotto 27 02 2025      9.00   \n",
       "2   2025-04-30        128  PUNTA D ANCA lotto 27 02 2025      3.35   \n",
       "\n",
       "   Prezzo_unit  Prezzo_tot   iva  Prezzo_ivato  \n",
       "0         25.0      180.00  10.0       198.000  \n",
       "1         25.0      225.00  10.0       247.500  \n",
       "2         25.0       83.75  10.0        92.125  "
      ]
     },
     "execution_count": 80,
     "metadata": {},
     "output_type": "execute_result"
    }
   ],
   "source": [
    "df_fattura"
   ]
  },
  {
   "cell_type": "code",
   "execution_count": 81,
   "id": "38c85b36",
   "metadata": {},
   "outputs": [
    {
     "data": {
      "text/plain": [
       "np.float64(537.6250000000001)"
      ]
     },
     "execution_count": 81,
     "metadata": {},
     "output_type": "execute_result"
    }
   ],
   "source": [
    "# <ImportoTotaleDocumento>1233.69\n",
    "\n",
    "df_fattura.Prezzo_ivato.sum()"
   ]
  },
  {
   "cell_type": "code",
   "execution_count": null,
   "id": "dd0c0186",
   "metadata": {},
   "outputs": [],
   "source": []
  },
  {
   "cell_type": "code",
   "execution_count": null,
   "id": "6f9e5fdf",
   "metadata": {},
   "outputs": [],
   "source": []
  },
  {
   "cell_type": "code",
   "execution_count": null,
   "id": "094e99e7",
   "metadata": {},
   "outputs": [],
   "source": []
  },
  {
   "cell_type": "code",
   "execution_count": null,
   "id": "e6e7188a",
   "metadata": {},
   "outputs": [],
   "source": []
  },
  {
   "cell_type": "code",
   "execution_count": null,
   "id": "388d574a",
   "metadata": {},
   "outputs": [],
   "source": []
  },
  {
   "cell_type": "code",
   "execution_count": 38,
   "id": "3165c346",
   "metadata": {},
   "outputs": [
    {
     "ename": "AttributeError",
     "evalue": "'NoneType' object has no attribute 'text'",
     "output_type": "error",
     "traceback": [
      "\u001b[31m---------------------------------------------------------------------------\u001b[39m",
      "\u001b[31mAttributeError\u001b[39m                            Traceback (most recent call last)",
      "\u001b[36mCell\u001b[39m\u001b[36m \u001b[39m\u001b[32mIn[38]\u001b[39m\u001b[32m, line 12\u001b[39m\n\u001b[32m      9\u001b[39m ns = {\u001b[33m'\u001b[39m\u001b[33mp\u001b[39m\u001b[33m'\u001b[39m: \u001b[33m'\u001b[39m\u001b[33mhttp://ivaservizi.agenziaentrate.gov.it/docs/xsd/fatture/v1.2\u001b[39m\u001b[33m'\u001b[39m}\n\u001b[32m     11\u001b[39m \u001b[38;5;66;03m# Estrai i dati del CedentePrestatore\u001b[39;00m\n\u001b[32m---> \u001b[39m\u001b[32m12\u001b[39m cedente_id = \u001b[43mroot\u001b[49m\u001b[43m.\u001b[49m\u001b[43mfind\u001b[49m\u001b[43m(\u001b[49m\u001b[33;43m'\u001b[39;49m\u001b[33;43m.//p:CedentePrestatore/p:DatiAnagrafici/p:IdFiscaleIVA/p:IdCodice\u001b[39;49m\u001b[33;43m'\u001b[39;49m\u001b[43m,\u001b[49m\u001b[43m \u001b[49m\u001b[43mns\u001b[49m\u001b[43m)\u001b[49m\u001b[43m.\u001b[49m\u001b[43mtext\u001b[49m\n\u001b[32m     13\u001b[39m cedente_den = root.find(\u001b[33m'\u001b[39m\u001b[33m.//p:CedentePrestatore/p:DatiAnagrafici/p:Anagrafica/p:Denominazione\u001b[39m\u001b[33m'\u001b[39m, ns).text\n\u001b[32m     15\u001b[39m \u001b[38;5;66;03m# Estrai i dati del CessionarioCommittente\u001b[39;00m\n",
      "\u001b[31mAttributeError\u001b[39m: 'NoneType' object has no attribute 'text'"
     ]
    }
   ],
   "source": [
    "import xml.etree.ElementTree as ET\n",
    "import pandas as pd\n",
    "\n",
    "# Carica e parse il file XML\n",
    "tree = ET.parse(\"file_estratto.xml\")  # Sostituisci con il tuo percorso\n",
    "root = tree.getroot()\n",
    "\n",
    "# Namespace usato nel file\n",
    "ns = {'p': 'http://ivaservizi.agenziaentrate.gov.it/docs/xsd/fatture/v1.2'}\n",
    "\n",
    "# Estrai i dati del CedentePrestatore\n",
    "cedente_id = root.find('.//p:CedentePrestatore/p:DatiAnagrafici/p:IdFiscaleIVA/p:IdCodice', ns).text\n",
    "cedente_den = root.find('.//p:CedentePrestatore/p:DatiAnagrafici/p:Anagrafica/p:Denominazione', ns).text\n",
    "\n",
    "# Estrai i dati del CessionarioCommittente\n",
    "cessionario_id = root.find('.//p:CessionarioCommittente/p:DatiAnagrafici/p:IdFiscaleIVA/p:IdCodice', ns).text\n",
    "cessionario_den = root.find('.//p:CessionarioCommittente/p:DatiAnagrafici/p:Anagrafica/p:Denominazione', ns).text\n",
    "\n",
    "# Crea un dizionario per la tabella\n",
    "data = {\n",
    "    'IdFiscaleIVA_Cedente': [cedente_id],\n",
    "    'Denominazione_Cedente': [cedente_den],\n",
    "    'IdFiscaleIVA_Cessionario': [cessionario_id],\n",
    "    'Denominazione_Cessionario': [cessionario_den]\n",
    "}\n",
    "\n",
    "# Crea un DataFrame\n",
    "df = pd.DataFrame(data)\n",
    "\n",
    "df\n"
   ]
  },
  {
   "cell_type": "code",
   "execution_count": 41,
   "id": "ddc5da51",
   "metadata": {},
   "outputs": [
    {
     "name": "stdout",
     "output_type": "stream",
     "text": [
      "⚠️ Attenzione: alcuni elementi non sono stati trovati. Verifica la struttura XML.\n",
      "Cedente ID: None\n",
      "Cedente Denominazione: None\n",
      "Cessionario ID: None\n",
      "Cessionario Denominazione: None\n",
      "  IdFiscaleIVA_Cedente Denominazione_Cedente IdFiscaleIVA_Cessionario  \\\n",
      "0                 None                  None                     None   \n",
      "\n",
      "  Denominazione_Cessionario  \n",
      "0                      None  \n"
     ]
    }
   ],
   "source": [
    "import xml.etree.ElementTree as ET\n",
    "import pandas as pd\n",
    "\n",
    "# Carica il file XML\n",
    "tree = ET.parse(\"file_estratto.xml\")  # Sostituisci con il percorso corretto\n",
    "root = tree.getroot()\n",
    "\n",
    "# Definisci il namespace\n",
    "ns = {'p': 'http://ivaservizi.agenziaentrate.gov.it/docs/xsd/fatture/v1.2'}\n",
    "\n",
    "def get_text_or_none(path):\n",
    "    el = root.find(path, ns)\n",
    "    return el.text if el is not None else None\n",
    "\n",
    "# Estrai i dati\n",
    "cedente_id = get_text_or_none('.//p:CedentePrestatore/p:DatiAnagrafici/p:IdFiscaleIVA/p:IdCodice')\n",
    "cedente_den = get_text_or_none('.//p:CedentePrestatore/p:DatiAnagrafici/p:Anagrafica/p:Denominazione')\n",
    "\n",
    "cessionario_id = get_text_or_none('.//p:CessionarioCommittente/p:DatiAnagrafici/p:IdFiscaleIVA/p:IdCodice')\n",
    "cessionario_den = get_text_or_none('.//p:CessionarioCommittente/p:DatiAnagrafici/p:Anagrafica/p:Denominazione')\n",
    "\n",
    "# Verifica che tutti i dati siano presenti\n",
    "if None in [cedente_id, cedente_den, cessionario_id, cessionario_den]:\n",
    "    print(\"⚠️ Attenzione: alcuni elementi non sono stati trovati. Verifica la struttura XML.\")\n",
    "    print(\"Cedente ID:\", cedente_id)\n",
    "    print(\"Cedente Denominazione:\", cedente_den)\n",
    "    print(\"Cessionario ID:\", cessionario_id)\n",
    "    print(\"Cessionario Denominazione:\", cessionario_den)\n",
    "\n",
    "# Crea la tabella\n",
    "df = pd.DataFrame([{\n",
    "    'IdFiscaleIVA_Cedente': cedente_id,\n",
    "    'Denominazione_Cedente': cedente_den,\n",
    "    'IdFiscaleIVA_Cessionario': cessionario_id,\n",
    "    'Denominazione_Cessionario': cessionario_den\n",
    "}])\n",
    "\n",
    "print(df)\n"
   ]
  },
  {
   "cell_type": "code",
   "execution_count": null,
   "id": "5b995436",
   "metadata": {},
   "outputs": [],
   "source": []
  },
  {
   "cell_type": "code",
   "execution_count": 42,
   "id": "883ea4d4",
   "metadata": {},
   "outputs": [
    {
     "name": "stdout",
     "output_type": "stream",
     "text": [
      "Cedente ID: None\n",
      "Cedente Denominazione: None\n",
      "Cessionario ID: None\n",
      "Cessionario Denominazione: None\n",
      "  IdFiscaleIVA_Cedente Denominazione_Cedente IdFiscaleIVA_Cessionario  \\\n",
      "0                 None                  None                     None   \n",
      "\n",
      "  Denominazione_Cessionario  \n",
      "0                      None  \n"
     ]
    }
   ],
   "source": [
    "import xml.etree.ElementTree as ET\n",
    "import pandas as pd\n",
    "\n",
    "# Carica il file XML\n",
    "tree = ET.parse('file_estratto.xml')\n",
    "root = tree.getroot()\n",
    "\n",
    "# Namespace: nota che 'p' deve corrispondere a quello definito nel file\n",
    "ns = {'p': 'http://ivaservizi.agenziaentrate.gov.it/docs/xsd/fatture/v1.2'}\n",
    "\n",
    "def find_text(path):\n",
    "    elem = root.find(path, ns)\n",
    "    return elem.text if elem is not None else None\n",
    "\n",
    "# Estrai dati cedente/prestatore\n",
    "cedente_id = find_text('.//p:CedentePrestatore/p:DatiAnagrafici/p:IdFiscaleIVA/p:IdCodice')\n",
    "cedente_den = find_text('.//p:CedentePrestatore/p:DatiAnagrafici/p:Anagrafica/p:Denominazione')\n",
    "\n",
    "# Estrai dati cessionario/committente\n",
    "cessionario_id = find_text('.//p:CessionarioCommittente/p:DatiAnagrafici/p:IdFiscaleIVA/p:IdCodice')\n",
    "cessionario_den = find_text('.//p:CessionarioCommittente/p:DatiAnagrafici/p:Anagrafica/p:Denominazione')\n",
    "\n",
    "# Stampa di controllo\n",
    "print(\"Cedente ID:\", cedente_id)\n",
    "print(\"Cedente Denominazione:\", cedente_den)\n",
    "print(\"Cessionario ID:\", cessionario_id)\n",
    "print(\"Cessionario Denominazione:\", cessionario_den)\n",
    "\n",
    "# Crea DataFrame\n",
    "df = pd.DataFrame([{\n",
    "    'IdFiscaleIVA_Cedente': cedente_id,\n",
    "    'Denominazione_Cedente': cedente_den,\n",
    "    'IdFiscaleIVA_Cessionario': cessionario_id,\n",
    "    'Denominazione_Cessionario': cessionario_den\n",
    "}])\n",
    "\n",
    "print(df)\n"
   ]
  },
  {
   "cell_type": "code",
   "execution_count": null,
   "id": "508eac1b",
   "metadata": {},
   "outputs": [],
   "source": []
  },
  {
   "cell_type": "code",
   "execution_count": null,
   "id": "6a097f84",
   "metadata": {},
   "outputs": [],
   "source": []
  }
 ],
 "metadata": {
  "kernelspec": {
   "display_name": ".venv",
   "language": "python",
   "name": "python3"
  },
  "language_info": {
   "codemirror_mode": {
    "name": "ipython",
    "version": 3
   },
   "file_extension": ".py",
   "mimetype": "text/x-python",
   "name": "python",
   "nbconvert_exporter": "python",
   "pygments_lexer": "ipython3",
   "version": "3.11.1"
  }
 },
 "nbformat": 4,
 "nbformat_minor": 5
}
