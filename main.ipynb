{
 "cells": [
  {
   "cell_type": "code",
   "execution_count": 1,
   "id": "b8327391",
   "metadata": {},
   "outputs": [],
   "source": [
    "from lib.processxml import XMLProcessing"
   ]
  },
  {
   "cell_type": "code",
   "execution_count": 2,
   "id": "a64219e2",
   "metadata": {},
   "outputs": [],
   "source": [
    "xmlproc = XMLProcessing()"
   ]
  },
  {
   "cell_type": "code",
   "execution_count": 3,
   "id": "79542e03",
   "metadata": {},
   "outputs": [],
   "source": [
    "input_dirs = [\n",
    "    \"data/raw/2025_04\",\n",
    "    \"data/raw/2025_05\",\n",
    "]"
   ]
  },
  {
   "cell_type": "code",
   "execution_count": 4,
   "id": "2858bae0",
   "metadata": {},
   "outputs": [
    {
     "name": "stderr",
     "output_type": "stream",
     "text": [
      "Verification failure\n",
      "C0ADD543F87F0000:error:02000068:rsa routines:ossl_rsa_verify:bad signature:crypto/rsa/rsa_sign.c:442:\n",
      "C0ADD543F87F0000:error:1C880004:Provider routines:rsa_verify_directly:RSA lib:providers/implementations/signature/rsa_sig.c:1041:\n",
      "C0ADD543F87F0000:error:10800069:PKCS7 routines:PKCS7_signatureVerify:signature failure:crypto/pkcs7/pk7_doit.c:1124:\n",
      "C0ADD543F87F0000:error:10800069:PKCS7 routines:PKCS7_verify:signature failure:crypto/pkcs7/pk7_smime.c:349:\n",
      "Verification successful\n",
      "Verification successful\n",
      "Verification successful\n",
      "Verification successful\n",
      "Verification successful\n",
      "Verification successful\n",
      "Verification failure\n",
      "C0ADD543F87F0000:error:02000068:rsa routines:ossl_rsa_verify:bad signature:crypto/rsa/rsa_sign.c:442:\n",
      "C0ADD543F87F0000:error:1C880004:Provider routines:rsa_verify_directly:RSA lib:providers/implementations/signature/rsa_sig.c:1041:\n",
      "C0ADD543F87F0000:error:10800069:PKCS7 routines:PKCS7_signatureVerify:signature failure:crypto/pkcs7/pk7_doit.c:1124:\n",
      "C0ADD543F87F0000:error:10800069:PKCS7 routines:PKCS7_verify:signature failure:crypto/pkcs7/pk7_smime.c:349:\n",
      "Verification successful\n",
      "Verification successful\n",
      "Verification failure\n",
      "C0ADD543F87F0000:error:02000068:rsa routines:ossl_rsa_verify:bad signature:crypto/rsa/rsa_sign.c:442:\n",
      "C0ADD543F87F0000:error:1C880004:Provider routines:rsa_verify_directly:RSA lib:providers/implementations/signature/rsa_sig.c:1041:\n",
      "C0ADD543F87F0000:error:10800069:PKCS7 routines:PKCS7_signatureVerify:signature failure:crypto/pkcs7/pk7_doit.c:1124:\n",
      "C0ADD543F87F0000:error:10800069:PKCS7 routines:PKCS7_verify:signature failure:crypto/pkcs7/pk7_smime.c:349:\n",
      "Verification failure\n",
      "C0ADD543F87F0000:error:02000068:rsa routines:ossl_rsa_verify:bad signature:crypto/rsa/rsa_sign.c:442:\n",
      "C0ADD543F87F0000:error:1C880004:Provider routines:rsa_verify_directly:RSA lib:providers/implementations/signature/rsa_sig.c:1041:\n",
      "C0ADD543F87F0000:error:10800069:PKCS7 routines:PKCS7_signatureVerify:signature failure:crypto/pkcs7/pk7_doit.c:1124:\n",
      "C0ADD543F87F0000:error:10800069:PKCS7 routines:PKCS7_verify:signature failure:crypto/pkcs7/pk7_smime.c:349:\n",
      "Verification successful\n",
      "Verification successful\n",
      "Verification successful\n",
      "Verification successful\n",
      "Verification successful\n",
      "Verification successful\n",
      "Verification successful\n",
      "Verification successful\n",
      "Verification failure\n",
      "C0ADD543F87F0000:error:02000068:rsa routines:ossl_rsa_verify:bad signature:crypto/rsa/rsa_sign.c:442:\n",
      "C0ADD543F87F0000:error:1C880004:Provider routines:rsa_verify_directly:RSA lib:providers/implementations/signature/rsa_sig.c:1041:\n",
      "C0ADD543F87F0000:error:10800069:PKCS7 routines:PKCS7_signatureVerify:signature failure:crypto/pkcs7/pk7_doit.c:1124:\n",
      "C0ADD543F87F0000:error:10800069:PKCS7 routines:PKCS7_verify:signature failure:crypto/pkcs7/pk7_smime.c:349:\n",
      "Verification successful\n",
      "Verification successful\n",
      "Verification successful\n",
      "Verification successful\n",
      "Verification successful\n",
      "Verification successful\n",
      "Verification failure\n",
      "C0ADD543F87F0000:error:02000068:rsa routines:ossl_rsa_verify:bad signature:crypto/rsa/rsa_sign.c:442:\n",
      "C0ADD543F87F0000:error:1C880004:Provider routines:rsa_verify_directly:RSA lib:providers/implementations/signature/rsa_sig.c:1041:\n",
      "C0ADD543F87F0000:error:10800069:PKCS7 routines:PKCS7_signatureVerify:signature failure:crypto/pkcs7/pk7_doit.c:1124:\n",
      "C0ADD543F87F0000:error:10800069:PKCS7 routines:PKCS7_verify:signature failure:crypto/pkcs7/pk7_smime.c:349:\n",
      "Verification successful\n",
      "Verification successful\n",
      "Verification successful\n",
      "Verification successful\n",
      "Verification successful\n",
      "Verification successful\n",
      "Verification successful\n",
      "Verification successful\n",
      "Verification successful\n",
      "Verification successful\n",
      "Verification failure\n",
      "C0ADD543F87F0000:error:02000068:rsa routines:ossl_rsa_verify:bad signature:crypto/rsa/rsa_sign.c:442:\n",
      "C0ADD543F87F0000:error:1C880004:Provider routines:rsa_verify_directly:RSA lib:providers/implementations/signature/rsa_sig.c:1041:\n",
      "C0ADD543F87F0000:error:10800069:PKCS7 routines:PKCS7_signatureVerify:signature failure:crypto/pkcs7/pk7_doit.c:1124:\n",
      "C0ADD543F87F0000:error:10800069:PKCS7 routines:PKCS7_verify:signature failure:crypto/pkcs7/pk7_smime.c:349:\n",
      "Verification successful\n",
      "Verification successful\n",
      "Verification failure\n",
      "C0ADD543F87F0000:error:02000068:rsa routines:ossl_rsa_verify:bad signature:crypto/rsa/rsa_sign.c:442:\n",
      "C0ADD543F87F0000:error:1C880004:Provider routines:rsa_verify_directly:RSA lib:providers/implementations/signature/rsa_sig.c:1041:\n",
      "C0ADD543F87F0000:error:10800069:PKCS7 routines:PKCS7_signatureVerify:signature failure:crypto/pkcs7/pk7_doit.c:1124:\n",
      "C0ADD543F87F0000:error:10800069:PKCS7 routines:PKCS7_verify:signature failure:crypto/pkcs7/pk7_smime.c:349:\n",
      "Verification failure\n",
      "C0ADD543F87F0000:error:02000068:rsa routines:ossl_rsa_verify:bad signature:crypto/rsa/rsa_sign.c:442:\n",
      "C0ADD543F87F0000:error:1C880004:Provider routines:rsa_verify_directly:RSA lib:providers/implementations/signature/rsa_sig.c:1041:\n",
      "C0ADD543F87F0000:error:10800069:PKCS7 routines:PKCS7_signatureVerify:signature failure:crypto/pkcs7/pk7_doit.c:1124:\n",
      "C0ADD543F87F0000:error:10800069:PKCS7 routines:PKCS7_verify:signature failure:crypto/pkcs7/pk7_smime.c:349:\n",
      "Verification successful\n"
     ]
    }
   ],
   "source": [
    "xmlproc.process_xml(\n",
    "    input_dirs\n",
    "    )"
   ]
  }
 ],
 "metadata": {
  "kernelspec": {
   "display_name": ".venv",
   "language": "python",
   "name": "python3"
  },
  "language_info": {
   "codemirror_mode": {
    "name": "ipython",
    "version": 3
   },
   "file_extension": ".py",
   "mimetype": "text/x-python",
   "name": "python",
   "nbconvert_exporter": "python",
   "pygments_lexer": "ipython3",
   "version": "3.11.1"
  }
 },
 "nbformat": 4,
 "nbformat_minor": 5
}
